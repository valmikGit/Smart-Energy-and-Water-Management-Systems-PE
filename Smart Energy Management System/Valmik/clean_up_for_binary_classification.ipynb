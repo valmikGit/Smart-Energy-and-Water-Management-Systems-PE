{
 "cells": [
  {
   "cell_type": "code",
   "execution_count": null,
   "id": "0314ae43",
   "metadata": {},
   "outputs": [],
   "source": [
    "# cleanup_mqtt_ids_temp.py\n",
    "# Script to delete intermediate temp files created during MQTT IDS preprocessing/training.\n",
    "# Run this manually if training is interrupted and you want to clean up unwanted files.\n",
    "\n",
    "import os\n",
    "import glob\n",
    "import tempfile\n",
    "import shutil\n",
    "\n",
    "# Base directory (project root where training script/data lives)\n",
    "BASE_PATH = \"./\"\n",
    "\n",
    "def safe_remove(path):\n",
    "    try:\n",
    "        if os.path.isfile(path):\n",
    "            os.remove(path)\n",
    "            print(f\"[CLEANUP] Removed file: {path}\")\n",
    "        elif os.path.isdir(path):\n",
    "            shutil.rmtree(path, ignore_errors=True)\n",
    "            print(f\"[CLEANUP] Removed directory: {path}\")\n",
    "    except Exception as e:\n",
    "        print(f\"[CLEANUP] Could not remove {path}: {e}\")\n",
    "\n",
    "def cleanup_intermediate():\n",
    "    print(\"[START CLEANUP] Removing intermediate preprocessing/training files...\")\n",
    "\n",
    "    tmpdir = tempfile.gettempdir()\n",
    "    search_dirs = [tmpdir, BASE_PATH]\n",
    "\n",
    "    patterns = [\"*.tmp\", \"*.temp\", \"tmp*\"]\n",
    "\n",
    "    for d in search_dirs:\n",
    "        for pattern in patterns:\n",
    "            for f in glob.glob(os.path.join(d, pattern)):\n",
    "                safe_remove(f)\n",
    "\n",
    "    print(\"[CLEANUP] Completed.\")\n",
    "\n",
    "if __name__ == \"__main__\":\n",
    "    cleanup_intermediate()"
   ]
  }
 ],
 "metadata": {
  "kernelspec": {
   "display_name": "seawsenv",
   "language": "python",
   "name": "python3"
  },
  "language_info": {
   "name": "python",
   "version": "3.12.4"
  }
 },
 "nbformat": 4,
 "nbformat_minor": 5
}
