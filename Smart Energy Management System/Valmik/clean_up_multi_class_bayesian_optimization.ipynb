{
 "cells": [
  {
   "cell_type": "code",
   "execution_count": 1,
   "id": "e6c47cb5",
   "metadata": {},
   "outputs": [
    {
     "name": "stdout",
     "output_type": "stream",
     "text": [
      "== Cleanup script running ==\n",
      "[CLEANUP] Could not remove C:\\Users\\VALMIK~1\\AppData\\Local\\Temp\\079ce13b-03b8-42fb-b9e3-53e652bd6b1b.tmp: [WinError 32] The process cannot access the file because it is being used by another process: 'C:\\\\Users\\\\VALMIK~1\\\\AppData\\\\Local\\\\Temp\\\\079ce13b-03b8-42fb-b9e3-53e652bd6b1b.tmp'\n",
      "[CLEANUP] Could not remove C:\\Users\\VALMIK~1\\AppData\\Local\\Temp\\0c096ff3-7b17-4ada-a782-2cf0dac9302d.tmp: [WinError 32] The process cannot access the file because it is being used by another process: 'C:\\\\Users\\\\VALMIK~1\\\\AppData\\\\Local\\\\Temp\\\\0c096ff3-7b17-4ada-a782-2cf0dac9302d.tmp'\n",
      "[CLEANUP] Could not remove C:\\Users\\VALMIK~1\\AppData\\Local\\Temp\\141bee9c-d9e4-4ba6-9024-4fc634396019.tmp: [WinError 32] The process cannot access the file because it is being used by another process: 'C:\\\\Users\\\\VALMIK~1\\\\AppData\\\\Local\\\\Temp\\\\141bee9c-d9e4-4ba6-9024-4fc634396019.tmp'\n",
      "[CLEANUP] Could not remove C:\\Users\\VALMIK~1\\AppData\\Local\\Temp\\3f998fcf-eb5f-4bcb-bfca-7ba1be9f89c5.tmp: [WinError 32] The process cannot access the file because it is being used by another process: 'C:\\\\Users\\\\VALMIK~1\\\\AppData\\\\Local\\\\Temp\\\\3f998fcf-eb5f-4bcb-bfca-7ba1be9f89c5.tmp'\n",
      "[CLEANUP] Could not remove C:\\Users\\VALMIK~1\\AppData\\Local\\Temp\\4898c3e2-b730-437c-8e79-5db75984593e.tmp: [WinError 32] The process cannot access the file because it is being used by another process: 'C:\\\\Users\\\\VALMIK~1\\\\AppData\\\\Local\\\\Temp\\\\4898c3e2-b730-437c-8e79-5db75984593e.tmp'\n",
      "[CLEANUP] Could not remove C:\\Users\\VALMIK~1\\AppData\\Local\\Temp\\4e90e025-f0ab-4abd-a722-bfef193a599d.tmp: [WinError 32] The process cannot access the file because it is being used by another process: 'C:\\\\Users\\\\VALMIK~1\\\\AppData\\\\Local\\\\Temp\\\\4e90e025-f0ab-4abd-a722-bfef193a599d.tmp'\n",
      "[CLEANUP] Could not remove C:\\Users\\VALMIK~1\\AppData\\Local\\Temp\\87972aa4-b8f9-45a1-bda4-dd5cc94651b2.tmp: [WinError 32] The process cannot access the file because it is being used by another process: 'C:\\\\Users\\\\VALMIK~1\\\\AppData\\\\Local\\\\Temp\\\\87972aa4-b8f9-45a1-bda4-dd5cc94651b2.tmp'\n",
      "[CLEANUP] Could not remove C:\\Users\\VALMIK~1\\AppData\\Local\\Temp\\90866aef-212b-41e4-af60-b6ae520be8b6.tmp: [WinError 32] The process cannot access the file because it is being used by another process: 'C:\\\\Users\\\\VALMIK~1\\\\AppData\\\\Local\\\\Temp\\\\90866aef-212b-41e4-af60-b6ae520be8b6.tmp'\n",
      "[CLEANUP] Could not remove C:\\Users\\VALMIK~1\\AppData\\Local\\Temp\\944c5ebc-ff77-40a8-86d9-e7ae67c46983.tmp: [WinError 32] The process cannot access the file because it is being used by another process: 'C:\\\\Users\\\\VALMIK~1\\\\AppData\\\\Local\\\\Temp\\\\944c5ebc-ff77-40a8-86d9-e7ae67c46983.tmp'\n",
      "[CLEANUP] Could not remove C:\\Users\\VALMIK~1\\AppData\\Local\\Temp\\9eb2ba0f-4f42-463b-8cd8-b76a2f984974.tmp: [WinError 32] The process cannot access the file because it is being used by another process: 'C:\\\\Users\\\\VALMIK~1\\\\AppData\\\\Local\\\\Temp\\\\9eb2ba0f-4f42-463b-8cd8-b76a2f984974.tmp'\n",
      "[CLEANUP] Could not remove C:\\Users\\VALMIK~1\\AppData\\Local\\Temp\\b5609d25-6479-4d76-af4e-d975600589f8.tmp: [WinError 32] The process cannot access the file because it is being used by another process: 'C:\\\\Users\\\\VALMIK~1\\\\AppData\\\\Local\\\\Temp\\\\b5609d25-6479-4d76-af4e-d975600589f8.tmp'\n",
      "[CLEANUP] Could not remove C:\\Users\\VALMIK~1\\AppData\\Local\\Temp\\b5d4f0c0-78ac-4288-ad74-1ec46c94e5e2.tmp: [WinError 32] The process cannot access the file because it is being used by another process: 'C:\\\\Users\\\\VALMIK~1\\\\AppData\\\\Local\\\\Temp\\\\b5d4f0c0-78ac-4288-ad74-1ec46c94e5e2.tmp'\n",
      "[CLEANUP] Could not remove C:\\Users\\VALMIK~1\\AppData\\Local\\Temp\\c43c4a27-e8f8-4f58-afbd-441fbb6bcb48.tmp: [WinError 32] The process cannot access the file because it is being used by another process: 'C:\\\\Users\\\\VALMIK~1\\\\AppData\\\\Local\\\\Temp\\\\c43c4a27-e8f8-4f58-afbd-441fbb6bcb48.tmp'\n",
      "[CLEANUP] Could not remove C:\\Users\\VALMIK~1\\AppData\\Local\\Temp\\d76aacce-e4da-415d-b39e-018ae03ff2e5.tmp: [WinError 32] The process cannot access the file because it is being used by another process: 'C:\\\\Users\\\\VALMIK~1\\\\AppData\\\\Local\\\\Temp\\\\d76aacce-e4da-415d-b39e-018ae03ff2e5.tmp'\n",
      "[CLEANUP] Could not remove C:\\Users\\VALMIK~1\\AppData\\Local\\Temp\\f1447445-b7e8-48b0-9485-043bba39a84a.tmp: [WinError 32] The process cannot access the file because it is being used by another process: 'C:\\\\Users\\\\VALMIK~1\\\\AppData\\\\Local\\\\Temp\\\\f1447445-b7e8-48b0-9485-043bba39a84a.tmp'\n",
      "[CLEANUP] Removed temp file: C:\\Users\\VALMIK~1\\AppData\\Local\\Temp\\wctBFB8.tmp\n",
      "[CLEANUP] Removed 1 temp files.\n",
      "== Cleanup complete ==\n"
     ]
    }
   ],
   "source": [
    "#!/usr/bin/env python3\n",
    "\"\"\"\n",
    "cleanup_temp_files.py\n",
    "\n",
    "Standalone script to clean up temporary/intermediate files:\n",
    " - Removes *.tmp, *.temp, and tmp* files\n",
    " - Searches both system temp directory and dataset base_path\n",
    " - Safe: skips if no files found or cannot be removed\n",
    "\n",
    "Usage:\n",
    "    python cleanup_temp_files.py\n",
    "\"\"\"\n",
    "\n",
    "import os\n",
    "import glob\n",
    "import tempfile\n",
    "\n",
    "# ------------------------------\n",
    "# Config\n",
    "# ------------------------------\n",
    "# Adjust base_path if your dataset root folder is elsewhere\n",
    "base_path = \"./\"\n",
    "\n",
    "# Patterns of temp files to clean up\n",
    "patterns = [\"*.tmp\", \"*.temp\", \"tmp*\"]\n",
    "\n",
    "# ------------------------------\n",
    "# Cleanup logic\n",
    "# ------------------------------\n",
    "def cleanup_temp_files(base_dirs=None):\n",
    "    if base_dirs is None:\n",
    "        base_dirs = [tempfile.gettempdir(), base_path]\n",
    "\n",
    "    removed = 0\n",
    "    for d in base_dirs:\n",
    "        for pat in patterns:\n",
    "            for f in glob.glob(os.path.join(d, pat)):\n",
    "                try:\n",
    "                    if os.path.isfile(f):\n",
    "                        os.remove(f)\n",
    "                        removed += 1\n",
    "                        print(f\"[CLEANUP] Removed temp file: {f}\")\n",
    "                except Exception as e:\n",
    "                    print(f\"[CLEANUP] Could not remove {f}: {e}\")\n",
    "\n",
    "    if removed == 0:\n",
    "        print(\"[CLEANUP] No temp files found to remove.\")\n",
    "    else:\n",
    "        print(f\"[CLEANUP] Removed {removed} temp files.\")\n",
    "\n",
    "# ------------------------------\n",
    "# Main\n",
    "# ------------------------------\n",
    "if __name__ == \"__main__\":\n",
    "    print(\"== Cleanup script running ==\")\n",
    "    cleanup_temp_files([tempfile.gettempdir(), base_path])\n",
    "    print(\"== Cleanup complete ==\")"
   ]
  }
 ],
 "metadata": {
  "kernelspec": {
   "display_name": "seawsenv",
   "language": "python",
   "name": "python3"
  },
  "language_info": {
   "codemirror_mode": {
    "name": "ipython",
    "version": 3
   },
   "file_extension": ".py",
   "mimetype": "text/x-python",
   "name": "python",
   "nbconvert_exporter": "python",
   "pygments_lexer": "ipython3",
   "version": "3.12.4"
  }
 },
 "nbformat": 4,
 "nbformat_minor": 5
}
