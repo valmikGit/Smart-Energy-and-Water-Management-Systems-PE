{
 "cells": [
  {
   "cell_type": "code",
   "execution_count": null,
   "id": "e6c47cb5",
   "metadata": {},
   "outputs": [],
   "source": [
    "# mqtt_ids_cleanup.py\n",
    "# Standalone cleanup utility for MQTT IDS training pipelines.\n",
    "\n",
    "import os\n",
    "import glob\n",
    "import tempfile\n",
    "\n",
    "def safe_remove(path):\n",
    "    try:\n",
    "        if os.path.exists(path):\n",
    "            os.remove(path)\n",
    "            print(f\"[CLEANUP] Removed file: {path}\")\n",
    "    except Exception as e:\n",
    "        print(f\"[CLEANUP] Could not remove {path}: {e}\")\n",
    "\n",
    "def cleanup_temp_files():\n",
    "    print(\"\\n[START CLEANUP] Looking for temporary files...\")\n",
    "\n",
    "    tmpdir = tempfile.gettempdir()\n",
    "\n",
    "    # Common temp file patterns\n",
    "    patterns = [\"*.tmp\", \"*.temp\", \"tmp*\", \"xgb_booster_*.model\"]\n",
    "\n",
    "    for pattern in patterns:\n",
    "        for f in glob.glob(os.path.join(tmpdir, pattern)):\n",
    "            if os.path.isfile(f):\n",
    "                safe_remove(f)\n",
    "\n",
    "    print(\"[CLEANUP] Completed temp dir cleanup.\")\n",
    "\n",
    "def cleanup_processed_csv(base_path=\"./\"):\n",
    "    \"\"\"\n",
    "    Remove any *_processed.csv files left from EDA or training preprocessing.\n",
    "    \"\"\"\n",
    "    print(\"\\n[START CLEANUP] Looking for processed CSVs...\")\n",
    "    for root, dirs, files in os.walk(base_path):\n",
    "        for fname in files:\n",
    "            if fname.endswith(\"_processed.csv\"):\n",
    "                fpath = os.path.join(root, fname)\n",
    "                safe_remove(fpath)\n",
    "    print(\"[CLEANUP] Completed processed CSV cleanup.\")\n",
    "\n",
    "if __name__ == \"__main__\":\n",
    "    cleanup_temp_files()\n",
    "    cleanup_processed_csv(base_path=\"./\")  # change if your dataset lives elsewhere\n",
    "    print(\"\\n[EXIT] Cleanup finished successfully.\")\n"
   ]
  }
 ],
 "metadata": {
  "kernelspec": {
   "display_name": "seawsenv",
   "language": "python",
   "name": "python3"
  },
  "language_info": {
   "name": "python",
   "version": "3.12.4"
  }
 },
 "nbformat": 4,
 "nbformat_minor": 5
}
