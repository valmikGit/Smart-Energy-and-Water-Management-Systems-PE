{
 "cells": [
  {
   "cell_type": "code",
   "execution_count": 1,
   "id": "e6c47cb5",
   "metadata": {},
   "outputs": [
    {
     "name": "stdout",
     "output_type": "stream",
     "text": [
      "== Cleanup script running ==\n",
      "[CLEANUP] Could not remove C:\\Users\\VALMIK~1\\AppData\\Local\\Temp\\0bfaf4d2-a756-4c46-8b84-425ea23f954d.tmp: [WinError 32] The process cannot access the file because it is being used by another process: 'C:\\\\Users\\\\VALMIK~1\\\\AppData\\\\Local\\\\Temp\\\\0bfaf4d2-a756-4c46-8b84-425ea23f954d.tmp'\n",
      "[CLEANUP] Could not remove C:\\Users\\VALMIK~1\\AppData\\Local\\Temp\\0fcf55a5-762e-4589-b10b-5eca2bef0e65.tmp: [WinError 32] The process cannot access the file because it is being used by another process: 'C:\\\\Users\\\\VALMIK~1\\\\AppData\\\\Local\\\\Temp\\\\0fcf55a5-762e-4589-b10b-5eca2bef0e65.tmp'\n",
      "[CLEANUP] Could not remove C:\\Users\\VALMIK~1\\AppData\\Local\\Temp\\4667ddf0-54d7-40fd-bc27-44bd070e70bb.tmp: [WinError 32] The process cannot access the file because it is being used by another process: 'C:\\\\Users\\\\VALMIK~1\\\\AppData\\\\Local\\\\Temp\\\\4667ddf0-54d7-40fd-bc27-44bd070e70bb.tmp'\n",
      "[CLEANUP] Could not remove C:\\Users\\VALMIK~1\\AppData\\Local\\Temp\\7e9961bb-d078-405d-abc3-16a9fe7b47ef.tmp: [WinError 32] The process cannot access the file because it is being used by another process: 'C:\\\\Users\\\\VALMIK~1\\\\AppData\\\\Local\\\\Temp\\\\7e9961bb-d078-405d-abc3-16a9fe7b47ef.tmp'\n",
      "[CLEANUP] Could not remove C:\\Users\\VALMIK~1\\AppData\\Local\\Temp\\88e909b0-5e37-4d44-9f80-a82e77c7816a.tmp: [WinError 32] The process cannot access the file because it is being used by another process: 'C:\\\\Users\\\\VALMIK~1\\\\AppData\\\\Local\\\\Temp\\\\88e909b0-5e37-4d44-9f80-a82e77c7816a.tmp'\n",
      "[CLEANUP] Could not remove C:\\Users\\VALMIK~1\\AppData\\Local\\Temp\\a0d3f020-7c37-42d8-a7bf-eec8f1898bd6.tmp: [WinError 32] The process cannot access the file because it is being used by another process: 'C:\\\\Users\\\\VALMIK~1\\\\AppData\\\\Local\\\\Temp\\\\a0d3f020-7c37-42d8-a7bf-eec8f1898bd6.tmp'\n",
      "[CLEANUP] Could not remove C:\\Users\\VALMIK~1\\AppData\\Local\\Temp\\ad866a59-8c12-429b-babd-da48d256181d.tmp: [WinError 32] The process cannot access the file because it is being used by another process: 'C:\\\\Users\\\\VALMIK~1\\\\AppData\\\\Local\\\\Temp\\\\ad866a59-8c12-429b-babd-da48d256181d.tmp'\n",
      "[CLEANUP] Could not remove C:\\Users\\VALMIK~1\\AppData\\Local\\Temp\\addd2704-d8f4-471b-b38a-4274deb71f46.tmp: [WinError 32] The process cannot access the file because it is being used by another process: 'C:\\\\Users\\\\VALMIK~1\\\\AppData\\\\Local\\\\Temp\\\\addd2704-d8f4-471b-b38a-4274deb71f46.tmp'\n",
      "[CLEANUP] Could not remove C:\\Users\\VALMIK~1\\AppData\\Local\\Temp\\af77b8b8-b28a-4a8c-8fa4-fbe582229b6f.tmp: [WinError 32] The process cannot access the file because it is being used by another process: 'C:\\\\Users\\\\VALMIK~1\\\\AppData\\\\Local\\\\Temp\\\\af77b8b8-b28a-4a8c-8fa4-fbe582229b6f.tmp'\n",
      "[CLEANUP] Could not remove C:\\Users\\VALMIK~1\\AppData\\Local\\Temp\\b774170b-4c60-49e6-99d0-b05806e56175.tmp: [WinError 32] The process cannot access the file because it is being used by another process: 'C:\\\\Users\\\\VALMIK~1\\\\AppData\\\\Local\\\\Temp\\\\b774170b-4c60-49e6-99d0-b05806e56175.tmp'\n",
      "[CLEANUP] Could not remove C:\\Users\\VALMIK~1\\AppData\\Local\\Temp\\bc0c605e-8d25-42fa-a8fd-fa65d61701ff.tmp: [WinError 32] The process cannot access the file because it is being used by another process: 'C:\\\\Users\\\\VALMIK~1\\\\AppData\\\\Local\\\\Temp\\\\bc0c605e-8d25-42fa-a8fd-fa65d61701ff.tmp'\n",
      "[CLEANUP] Could not remove C:\\Users\\VALMIK~1\\AppData\\Local\\Temp\\c77a159d-d9bc-43be-8239-4facab1f12dd.tmp: [WinError 32] The process cannot access the file because it is being used by another process: 'C:\\\\Users\\\\VALMIK~1\\\\AppData\\\\Local\\\\Temp\\\\c77a159d-d9bc-43be-8239-4facab1f12dd.tmp'\n",
      "[CLEANUP] Could not remove C:\\Users\\VALMIK~1\\AppData\\Local\\Temp\\cd318abe-0d64-4648-b60f-478517c542d0.tmp: [WinError 32] The process cannot access the file because it is being used by another process: 'C:\\\\Users\\\\VALMIK~1\\\\AppData\\\\Local\\\\Temp\\\\cd318abe-0d64-4648-b60f-478517c542d0.tmp'\n",
      "[CLEANUP] No temp files found to remove.\n",
      "== Cleanup complete ==\n"
     ]
    }
   ],
   "source": [
    "#!/usr/bin/env python3\n",
    "\"\"\"\n",
    "cleanup_temp_files.py\n",
    "\n",
    "Standalone script to clean up temporary/intermediate files:\n",
    " - Removes *.tmp, *.temp, and tmp* files\n",
    " - Searches both system temp directory and dataset base_path\n",
    " - Safe: skips if no files found or cannot be removed\n",
    "\n",
    "Usage:\n",
    "    python cleanup_temp_files.py\n",
    "\"\"\"\n",
    "\n",
    "import os\n",
    "import glob\n",
    "import tempfile\n",
    "\n",
    "# ------------------------------\n",
    "# Config\n",
    "# ------------------------------\n",
    "# Adjust base_path if your dataset root folder is elsewhere\n",
    "base_path = \"./\"\n",
    "\n",
    "# Patterns of temp files to clean up\n",
    "patterns = [\"*.tmp\", \"*.temp\", \"tmp*\"]\n",
    "\n",
    "# ------------------------------\n",
    "# Cleanup logic\n",
    "# ------------------------------\n",
    "def cleanup_temp_files(base_dirs=None):\n",
    "    if base_dirs is None:\n",
    "        base_dirs = [tempfile.gettempdir(), base_path]\n",
    "\n",
    "    removed = 0\n",
    "    for d in base_dirs:\n",
    "        for pat in patterns:\n",
    "            for f in glob.glob(os.path.join(d, pat)):\n",
    "                try:\n",
    "                    if os.path.isfile(f):\n",
    "                        os.remove(f)\n",
    "                        removed += 1\n",
    "                        print(f\"[CLEANUP] Removed temp file: {f}\")\n",
    "                except Exception as e:\n",
    "                    print(f\"[CLEANUP] Could not remove {f}: {e}\")\n",
    "\n",
    "    if removed == 0:\n",
    "        print(\"[CLEANUP] No temp files found to remove.\")\n",
    "    else:\n",
    "        print(f\"[CLEANUP] Removed {removed} temp files.\")\n",
    "\n",
    "# ------------------------------\n",
    "# Main\n",
    "# ------------------------------\n",
    "if __name__ == \"__main__\":\n",
    "    print(\"== Cleanup script running ==\")\n",
    "    cleanup_temp_files([tempfile.gettempdir(), base_path])\n",
    "    print(\"== Cleanup complete ==\")"
   ]
  }
 ],
 "metadata": {
  "kernelspec": {
   "display_name": "seawsenv",
   "language": "python",
   "name": "python3"
  },
  "language_info": {
   "codemirror_mode": {
    "name": "ipython",
    "version": 3
   },
   "file_extension": ".py",
   "mimetype": "text/x-python",
   "name": "python",
   "nbconvert_exporter": "python",
   "pygments_lexer": "ipython3",
   "version": "3.12.4"
  }
 },
 "nbformat": 4,
 "nbformat_minor": 5
}
